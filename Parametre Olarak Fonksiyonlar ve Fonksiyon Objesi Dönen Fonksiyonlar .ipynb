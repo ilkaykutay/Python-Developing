{
 "cells": [
  {
   "cell_type": "code",
   "execution_count": 1,
   "id": "f8ea7e54",
   "metadata": {},
   "outputs": [],
   "source": [
    "def anafonksiyon(işlem_adı):#Bir fonksiyon aynı zamanda bir obje olduğu için, bu fonksiyonu başka bir fonksiyondan return ile döndürebiliriz.\n",
    "    def toplama(*args):\n",
    "        toplam=0\n",
    "        for i in args:\n",
    "            toplam+=i\n",
    "        return toplam\n",
    "    def çarpım(*args):\n",
    "        çarp=1\n",
    "        for i in args:\n",
    "            çarp*=i\n",
    "        return çarp\n",
    "    if işlem_adı==\"toplama\":\n",
    "        return toplama\n",
    "    else:\n",
    "        return çarpım"
   ]
  },
  {
   "cell_type": "code",
   "execution_count": 2,
   "id": "0c308b10",
   "metadata": {},
   "outputs": [],
   "source": [
    "fonk=anafonksiyon(\"toplama\")#burda toplama objesı donduruyor."
   ]
  },
  {
   "cell_type": "code",
   "execution_count": 3,
   "id": "a241ec34",
   "metadata": {},
   "outputs": [
    {
     "data": {
      "text/plain": [
       "<function __main__.anafonksiyon.<locals>.toplama(*args)>"
      ]
     },
     "execution_count": 3,
     "metadata": {},
     "output_type": "execute_result"
    }
   ],
   "source": [
    "fonk"
   ]
  },
  {
   "cell_type": "code",
   "execution_count": 4,
   "id": "21fdac80",
   "metadata": {},
   "outputs": [
    {
     "data": {
      "text/plain": [
       "15"
      ]
     },
     "execution_count": 4,
     "metadata": {},
     "output_type": "execute_result"
    }
   ],
   "source": [
    "fonk(1,2,3,4,5)"
   ]
  },
  {
   "cell_type": "code",
   "execution_count": 5,
   "id": "06722271",
   "metadata": {},
   "outputs": [],
   "source": [
    "fonk2=anafonksiyon(\"çarpım\")"
   ]
  },
  {
   "cell_type": "code",
   "execution_count": 6,
   "id": "63068ef4",
   "metadata": {},
   "outputs": [
    {
     "data": {
      "text/plain": [
       "<function __main__.anafonksiyon.<locals>.çarpım(*args)>"
      ]
     },
     "execution_count": 6,
     "metadata": {},
     "output_type": "execute_result"
    }
   ],
   "source": [
    "fonk2"
   ]
  },
  {
   "cell_type": "code",
   "execution_count": 7,
   "id": "2566481f",
   "metadata": {},
   "outputs": [
    {
     "data": {
      "text/plain": [
       "120"
      ]
     },
     "execution_count": 7,
     "metadata": {},
     "output_type": "execute_result"
    }
   ],
   "source": [
    "fonk2(2,3,4,5)"
   ]
  },
  {
   "cell_type": "code",
   "execution_count": 9,
   "id": "4322a3e3",
   "metadata": {},
   "outputs": [],
   "source": [
    "def toplama(a,b):\n",
    "    return a+b\n",
    "def çıkarma(a,b):\n",
    "    return a-b\n",
    "def çarpma(a,b):\n",
    "    return a*b\n",
    "def bölme(a,b):\n",
    "    return a/b"
   ]
  },
  {
   "cell_type": "code",
   "execution_count": 10,
   "id": "67784420",
   "metadata": {},
   "outputs": [],
   "source": [
    "def anafonksiyon(func1,func2,func3,func4,işlem_adı):\n",
    "    if işlem_adı==\"toplama\":\n",
    "        print(func1(3,4))\n",
    "    elif işlem_adı==\"çıkarma\":\n",
    "        print(func2(10,3))\n",
    "    elif işlem_adı==\"çarpma\":\n",
    "        print(func3(3,5))\n",
    "    elif işlem_adı==\"bölme\":\n",
    "        print(func4(10,4))\n",
    "    else:\n",
    "        print(\"Geçersiz işlem...\")"
   ]
  },
  {
   "cell_type": "code",
   "execution_count": 13,
   "id": "6a2d20fe",
   "metadata": {},
   "outputs": [
    {
     "name": "stdout",
     "output_type": "stream",
     "text": [
      "7\n",
      "7\n",
      "15\n",
      "2.5\n"
     ]
    }
   ],
   "source": [
    "anafonksiyon(toplama,çıkarma,çarpma,bölme,\"toplama\")\n",
    "anafonksiyon(toplama,çıkarma,çarpma,bölme,\"çıkarma\")\n",
    "anafonksiyon(toplama,çıkarma,çarpma,bölme,\"çarpma\")\n",
    "anafonksiyon(toplama,çıkarma,çarpma,bölme,\"bölme\")"
   ]
  },
  {
   "cell_type": "code",
   "execution_count": null,
   "id": "74acd516",
   "metadata": {},
   "outputs": [],
   "source": []
  }
 ],
 "metadata": {
  "kernelspec": {
   "display_name": "Python 3 (ipykernel)",
   "language": "python",
   "name": "python3"
  },
  "language_info": {
   "codemirror_mode": {
    "name": "ipython",
    "version": 3
   },
   "file_extension": ".py",
   "mimetype": "text/x-python",
   "name": "python",
   "nbconvert_exporter": "python",
   "pygments_lexer": "ipython3",
   "version": "3.9.13"
  }
 },
 "nbformat": 4,
 "nbformat_minor": 5
}
