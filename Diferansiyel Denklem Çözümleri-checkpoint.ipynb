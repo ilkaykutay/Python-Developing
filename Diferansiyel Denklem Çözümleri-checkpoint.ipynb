{
 "cells": [
  {
   "cell_type": "code",
   "execution_count": 2,
   "id": "384c5bef",
   "metadata": {},
   "outputs": [],
   "source": [
    "import numpy as np\n",
    "import scipy as sp\n",
    "import matplotlib.pyplot as plt\n",
    "from scipy.integrate import odeint\n",
    "from scipy.integrate import solve_ivp"
   ]
  },
  {
   "cell_type": "markdown",
   "id": "c6af022e",
   "metadata": {},
   "source": [
    "# First Order ODEs\n",
    "Düştüğündeki hava sürtünmesi\n",
    "$$ \\frac{dv}{dt} - \\alpha v^2 + \\beta = 0 \\hspace{10mm} v(0) = 0$$\n",
    "ilk önce bu formda yazmalıyız\n",
    "$$\\frac{dv}{dt} = f(t,v)$$\n",
    "Yani hem hıza hemde zamana bağlı bir fonksiyon var elimizde diyebiliriz.\n",
    "$$\\frac{dv}{dt} = \\alpha v^2 - \\beta$$"
   ]
  },
  {
   "cell_type": "code",
   "execution_count": 3,
   "id": "3025ef13",
   "metadata": {},
   "outputs": [],
   "source": [
    "def dvdt(t,v):\n",
    "    return 3*v**2-5\n",
    "v0=0"
   ]
  },
  {
   "cell_type": "code",
   "execution_count": 13,
   "id": "a612267e",
   "metadata": {},
   "outputs": [],
   "source": [
    "t=np.linspace(0,1,100)\n",
    "sol_m1=odeint(dvdt,y0=v0,t=t,tfirst=True)\n",
    "#tfirst ilk önce fonkda aldığı parametreyi t olarak almasını sagladı.\n",
    "#odeint birazdaha klasik bir çözüm sunar.\n",
    "sol_m2=solve_ivp(dvdt,t_span=(0,max(t)),y0=[v0],t_eval=t)\n",
    "#tspan hareketin ne kadar sürüceğini belirtiyor.\n",
    "#solveivp birazdaha özelleştirme imkanı sunar."
   ]
  },
  {
   "cell_type": "code",
   "execution_count": 12,
   "id": "e71b1419",
   "metadata": {},
   "outputs": [
    {
     "data": {
      "text/plain": [
       "array([[ 0.        , -0.05050401, -0.10100185, -0.15148732, -0.20195424,\n",
       "        -0.25239642, -0.30280768, -0.35318185, -0.40351273, -0.45379413,\n",
       "        -0.50401989, -0.55418381, -0.60427971, -0.6543014 , -0.70424271,\n",
       "        -0.75409744, -0.80385942, -0.85352246, -0.90308038, -0.952527  ,\n",
       "        -1.00185612, -1.05106157, -1.10013717, -1.14907672, -1.19787405,\n",
       "        -1.24652297, -1.2950173 , -1.34335086, -1.39151745, -1.43951091,\n",
       "        -1.48732503, -1.53495365, -1.58239058, -1.62962962, -1.67666461,\n",
       "        -1.72348935, -1.77009766, -1.81648337, -1.86264027, -1.9085622 ,\n",
       "        -1.95424296, -1.99967638, -2.04485627, -2.08977644, -2.13443072,\n",
       "        -2.17881292, -2.22291685, -2.26673633, -2.31026518, -2.35349721,\n",
       "        -2.39642625, -2.4390461 , -2.48135059, -2.52333352, -2.56498872,\n",
       "        -2.60631001, -2.64729119, -2.68792609, -2.72820851, -2.76813229,\n",
       "        -2.80769123, -2.84687915, -2.88568987, -2.9241172 , -2.96215496,\n",
       "        -2.99979696, -3.03703703, -3.07386898, -3.11028662, -3.14628377,\n",
       "        -3.18185425, -3.21699187, -3.25169045, -3.28594381, -3.31974576,\n",
       "        -3.35309012, -3.38597071, -3.41838134, -3.45031582, -3.48176798,\n",
       "        -3.51273164, -3.54320059, -3.57316868, -3.6026297 , -3.63157748,\n",
       "        -3.66000583, -3.68790857, -3.71527951, -3.74211248, -3.76840128,\n",
       "        -3.79413974, -3.81932167, -3.84394088, -3.8679912 , -3.89146644,\n",
       "        -3.91436041, -3.93666694, -3.95837983, -3.97949291, -3.99999999]])"
      ]
     },
     "execution_count": 12,
     "metadata": {},
     "output_type": "execute_result"
    }
   ],
   "source": [
    "sol_m1.T#matrisin transposunu almış olduk.Numpyın içinde.\n",
    "#Bu çıkan matris 2 boyutlu olucagı ıcın çizdirmek istersen 0. elemanını al."
   ]
  },
  {
   "cell_type": "code",
   "execution_count": 16,
   "id": "97d74fe7",
   "metadata": {},
   "outputs": [
    {
     "data": {
      "text/plain": [
       "  message: The solver successfully reached the end of the integration interval.\n",
       "  success: True\n",
       "   status: 0\n",
       "        t: [ 0.000e+00  1.010e-02 ...  9.899e-01  1.000e+00]\n",
       "        y: [[ 0.000e+00 -5.050e-02 ... -3.979e+00 -4.000e+00]]\n",
       "      sol: None\n",
       " t_events: None\n",
       " y_events: None\n",
       "     nfev: 32\n",
       "     njev: 0\n",
       "      nlu: 0"
      ]
     },
     "execution_count": 16,
     "metadata": {},
     "output_type": "execute_result"
    }
   ],
   "source": [
    "sol_m2"
   ]
  },
  {
   "cell_type": "code",
   "execution_count": 46,
   "id": "294e7dfe",
   "metadata": {},
   "outputs": [
    {
     "data": {
      "text/plain": [
       "array([ 0.        , -0.05050402, -0.10100186, -0.15148733, -0.20195424,\n",
       "       -0.25239643, -0.30280769, -0.35318185, -0.40351273, -0.45379414,\n",
       "       -0.50401989, -0.55418381, -0.60427971, -0.65430141, -0.70424271,\n",
       "       -0.75409745, -0.80385943, -0.85352247, -0.90308039, -0.952527  ,\n",
       "       -1.00185613, -1.05106158, -1.10013717, -1.14907673, -1.19787406,\n",
       "       -1.24652298, -1.29501731, -1.34335086, -1.39151746, -1.43951091,\n",
       "       -1.48732504, -1.53495366, -1.58239058, -1.62962963, -1.67666462,\n",
       "       -1.72348936, -1.77009767, -1.81648337, -1.86264028, -1.90856221,\n",
       "       -1.95424297, -1.99967639, -2.04485628, -2.08977645, -2.13443073,\n",
       "       -2.17881292, -2.22291685, -2.26673634, -2.31026519, -2.35349722,\n",
       "       -2.39642626, -2.43904611, -2.48135059, -2.52333353, -2.56498873,\n",
       "       -2.60631001, -2.6472912 , -2.68792609, -2.72820852, -2.7681323 ,\n",
       "       -2.80769124, -2.84687916, -2.88568987, -2.92411721, -2.96215496,\n",
       "       -2.99979697, -3.03703704, -3.07386898, -3.11028662, -3.14628377,\n",
       "       -3.18185425, -3.21699188, -3.25169046, -3.28594382, -3.31974577,\n",
       "       -3.35309013, -3.38597072, -3.41838134, -3.45031583, -3.48176799,\n",
       "       -3.51273164, -3.5432006 , -3.57316868, -3.6026297 , -3.63157748,\n",
       "       -3.66000583, -3.68790857, -3.71527952, -3.74211248, -3.76840129,\n",
       "       -3.79413974, -3.81932167, -3.84394089, -3.86799121, -3.89146644,\n",
       "       -3.91436042, -3.93666694, -3.95837984, -3.97949292, -4.        ])"
      ]
     },
     "execution_count": 46,
     "metadata": {},
     "output_type": "execute_result"
    }
   ],
   "source": [
    "sol_m2.y[0]#Bunun sayesinde var olan çözümleri görmüş olucaz.\n",
    "#Bu çıkan matris 2 boyutlu olucagı ıcın çizdirmek istersen 0. elemanını al."
   ]
  },
  {
   "cell_type": "code",
   "execution_count": 47,
   "id": "cf3d1019",
   "metadata": {},
   "outputs": [],
   "source": [
    "v_sol_m1=sol_m1.T[0]\n",
    "v_sol_m2=sol_m2.y[0]"
   ]
  },
  {
   "cell_type": "code",
   "execution_count": 48,
   "id": "9773c539",
   "metadata": {},
   "outputs": [
    {
     "data": {
      "image/png": "[encoded data removed]",
      "text/plain": [
       "<Figure size 640x480 with 1 Axes>"
      ]
     },
     "metadata": {},
     "output_type": "display_data"
    }
   ],
   "source": [
    "plt.plot(t,v_sol_m1,\"--\")\n",
    "plt.plot(t,v_sol_m2)\n",
    "plt.xlabel(\"$t$\",fontsize=22)\n",
    "plt.ylabel(\"$v(t)$\",fontsize=22)\n",
    "plt.show()"
   ]
  },
  {
   "cell_type": "markdown",
   "id": "4c059c67",
   "metadata": {},
   "source": [
    "# Coupled first order ODEs\n",
    "\n",
    "$$ y_1' = y_1 + y_2^2 + 3x \\hspace{10mm} y_1(0)=0$$\n",
    "$$ y_2' = 3y_1 + y_2^3 - \\cos(x) \\hspace{10mm} y_2(0)=0$$\n",
    "\n",
    "Letting $S=(y_1, y_2)$ we need to write a function that returns $dS/dx = (dy_1/dx, dy_2/dx)$. The function $dS/dx$ can take in $S=(y_1, y_2)$ and $x$. This is like before, but in vector format\n",
    "\n",
    "$$ \\vec{S} = \\begin{bmatrix} y_1 \\\\ y_2 \\end{bmatrix} \\hspace{10mm} \\implies  \\hspace{10mm} \\frac{d\\vec{S}}{dx} = \\vec{f}(x, \\vec{S}) = \\vec{f}(x, y_1, y_2) =  \\begin{bmatrix} y_1' \\\\ y_2' \\end{bmatrix}  = \\begin{bmatrix}  y_1 + y_2^2 + 3x\\\\ 3y_1 + y_2^3 - \\cos(x) \\end{bmatrix}$$"
   ]
  },
  {
   "cell_type": "code",
   "execution_count": 52,
   "id": "f7efeaf5",
   "metadata": {},
   "outputs": [],
   "source": [
    "def dSdx(x,S):\n",
    "    y1,y2=S\n",
    "    return [y1+y2**2+3*x,3*y1+y2**3-np.cos(x)],\n",
    "y1_0=0\n",
    "y2_0=0\n",
    "S_0=[0,0]"
   ]
  },
  {
   "cell_type": "code",
   "execution_count": null,
   "id": "c52cfabe",
   "metadata": {},
   "outputs": [],
   "source": [
    "t=np.linspace(0,1,100)\n",
    "sol=odeint(dSdx,)"
   ]
  }
 ],
 "metadata": {
  "kernelspec": {
   "display_name": "Python 3 (ipykernel)",
   "language": "python",
   "name": "python3"
  },
  "language_info": {
   "codemirror_mode": {
    "name": "ipython",
    "version": 3
   },
   "file_extension": ".py",
   "mimetype": "text/x-python",
   "name": "python",
   "nbconvert_exporter": "python",
   "pygments_lexer": "ipython3",
   "version": "3.11.4"
  }
 },
 "nbformat": 4,
 "nbformat_minor": 5
}
