{
 "cells": [
  {
   "cell_type": "code",
   "execution_count": 1,
   "id": "8e43432d",
   "metadata": {},
   "outputs": [],
   "source": [
    "from datetime import datetime"
   ]
  },
  {
   "cell_type": "code",
   "execution_count": 2,
   "id": "e9ec9635",
   "metadata": {},
   "outputs": [
    {
     "name": "stdout",
     "output_type": "stream",
     "text": [
      "2023\n",
      "7\n",
      "14\n",
      "Sun Jul  2 14:48:47 2023\n"
     ]
    }
   ],
   "source": [
    "from _datetime import datetime\n",
    "\n",
    "şu_an=datetime.now()#modülün içindeki now fonku sayesinde şuan ki zamanı yazdırabiliriz.\n",
    "print(şu_an.year)\n",
    "print(şu_an.month)\n",
    "print(şu_an.hour)\n",
    "print(datetime.ctime(şu_an))#ctime sayesinde  zamanı daha düzgün bir şekilde göstermiş olduk."
   ]
  },
  {
   "cell_type": "markdown",
   "id": "1857c120",
   "metadata": {},
   "source": [
    "Şu anki zamanın yıl,ay,gün gibi özelliklerinin sadece belirli bir kısmını göstermek için strftime fonkunu kullanırız.\n",
    "yıl bilgisi için:%Y\n",
    "ay ismi için:%B\n",
    "gün ismi için:%A\n",
    "saat bilgisi için:%X\n",
    "yıl bilgisi için:%D"
   ]
  },
  {
   "cell_type": "code",
   "execution_count": 3,
   "id": "50527409",
   "metadata": {},
   "outputs": [
    {
     "name": "stdout",
     "output_type": "stream",
     "text": [
      "July 2023\n"
     ]
    }
   ],
   "source": [
    "şu_an=datetime.now()\n",
    "print(datetime.strftime(şu_an,\"%B %Y\"))"
   ]
  },
  {
   "cell_type": "markdown",
   "id": "0861e47d",
   "metadata": {},
   "source": [
    "YAZILARI TÜRKÇE YAPMAK İÇİN local modülünü alıcaz."
   ]
  },
  {
   "cell_type": "code",
   "execution_count": 6,
   "id": "051fb76f",
   "metadata": {},
   "outputs": [
    {
     "name": "stdout",
     "output_type": "stream",
     "text": [
      "Turkish_Turkey.1254\n",
      "Temmuz 2023 Pazar\n"
     ]
    }
   ],
   "source": [
    "import locale\n",
    "print(locale.setlocale(locale.LC_ALL,\"\"))\n",
    "şu_an=datetime.now()\n",
    "print(datetime.strftime(şu_an,\"%B %Y %A\"))"
   ]
  },
  {
   "cell_type": "markdown",
   "id": "8c4511b0",
   "metadata": {},
   "source": [
    "şu anki zamanı saniye cinsinden bulmak için datetime objemizi timestamp fonku ile bulabiliriz.Aynı zamanda saniye cinsinden verilmiş bir zamanı da fromtimestamp fonksiyonu ile datetime objesine çevirebiliriz."
   ]
  },
  {
   "cell_type": "code",
   "execution_count": 7,
   "id": "9ba39853",
   "metadata": {},
   "outputs": [
    {
     "data": {
      "text/plain": [
       "datetime.datetime(2023, 7, 2, 15, 6, 22, 32419)"
      ]
     },
     "execution_count": 7,
     "metadata": {},
     "output_type": "execute_result"
    }
   ],
   "source": [
    "şu_an"
   ]
  },
  {
   "cell_type": "code",
   "execution_count": 8,
   "id": "72be42b9",
   "metadata": {},
   "outputs": [
    {
     "data": {
      "text/plain": [
       "1688299582.032419"
      ]
     },
     "execution_count": 8,
     "metadata": {},
     "output_type": "execute_result"
    }
   ],
   "source": [
    "datetime.timestamp(şu_an)"
   ]
  },
  {
   "cell_type": "code",
   "execution_count": 9,
   "id": "ef040d3c",
   "metadata": {},
   "outputs": [],
   "source": [
    "saniye=datetime.timestamp(şu_an)\n"
   ]
  },
  {
   "cell_type": "code",
   "execution_count": 10,
   "id": "21643abf",
   "metadata": {},
   "outputs": [],
   "source": [
    "zaman=datetime.fromtimestamp(saniye)"
   ]
  },
  {
   "cell_type": "code",
   "execution_count": 11,
   "id": "b0a0bbaf",
   "metadata": {},
   "outputs": [
    {
     "name": "stdout",
     "output_type": "stream",
     "text": [
      "2023-07-02 15:06:22.032419\n"
     ]
    }
   ],
   "source": [
    "print(zaman)"
   ]
  },
  {
   "cell_type": "code",
   "execution_count": 22,
   "id": "bd2ba4f8",
   "metadata": {},
   "outputs": [],
   "source": [
    "tarih=datetime(2019,12,1)#KENDİMİZ OBJE OLUSTURDUK."
   ]
  },
  {
   "cell_type": "code",
   "execution_count": 23,
   "id": "f1869d14",
   "metadata": {},
   "outputs": [],
   "source": [
    "şu_an=datetime.now()"
   ]
  },
  {
   "cell_type": "code",
   "execution_count": 24,
   "id": "15c7e1ec",
   "metadata": {},
   "outputs": [],
   "source": [
    "fark=tarih-şu_an"
   ]
  },
  {
   "cell_type": "code",
   "execution_count": 25,
   "id": "512cbcca",
   "metadata": {},
   "outputs": [
    {
     "name": "stdout",
     "output_type": "stream",
     "text": [
      "-1310 days, 8:04:47.872430\n"
     ]
    }
   ],
   "source": [
    "print(fark)"
   ]
  },
  {
   "cell_type": "markdown",
   "id": "823ff05a",
   "metadata": {},
   "source": [
    "Os modülü standart bir python modülüdür ve işletim sisteminde işlemler gerçekleştirdiğimiz için kullanırız."
   ]
  },
  {
   "cell_type": "code",
   "execution_count": 1,
   "id": "80495c6c",
   "metadata": {},
   "outputs": [
    {
     "data": {
      "text/plain": [
       "['DirEntry',\n",
       " 'F_OK',\n",
       " 'GenericAlias',\n",
       " 'Mapping',\n",
       " 'MutableMapping',\n",
       " 'O_APPEND',\n",
       " 'O_BINARY',\n",
       " 'O_CREAT',\n",
       " 'O_EXCL',\n",
       " 'O_NOINHERIT',\n",
       " 'O_RANDOM',\n",
       " 'O_RDONLY',\n",
       " 'O_RDWR',\n",
       " 'O_SEQUENTIAL',\n",
       " 'O_SHORT_LIVED',\n",
       " 'O_TEMPORARY',\n",
       " 'O_TEXT',\n",
       " 'O_TRUNC',\n",
       " 'O_WRONLY',\n",
       " 'P_DETACH',\n",
       " 'P_NOWAIT',\n",
       " 'P_NOWAITO',\n",
       " 'P_OVERLAY',\n",
       " 'P_WAIT',\n",
       " 'PathLike',\n",
       " 'R_OK',\n",
       " 'SEEK_CUR',\n",
       " 'SEEK_END',\n",
       " 'SEEK_SET',\n",
       " 'TMP_MAX',\n",
       " 'W_OK',\n",
       " 'X_OK',\n",
       " '_AddedDllDirectory',\n",
       " '_Environ',\n",
       " '__all__',\n",
       " '__builtins__',\n",
       " '__cached__',\n",
       " '__doc__',\n",
       " '__file__',\n",
       " '__loader__',\n",
       " '__name__',\n",
       " '__package__',\n",
       " '__spec__',\n",
       " '_check_methods',\n",
       " '_execvpe',\n",
       " '_exists',\n",
       " '_exit',\n",
       " '_fspath',\n",
       " '_get_exports_list',\n",
       " '_walk',\n",
       " '_wrap_close',\n",
       " 'abc',\n",
       " 'abort',\n",
       " 'access',\n",
       " 'add_dll_directory',\n",
       " 'altsep',\n",
       " 'chdir',\n",
       " 'chmod',\n",
       " 'close',\n",
       " 'closerange',\n",
       " 'cpu_count',\n",
       " 'curdir',\n",
       " 'defpath',\n",
       " 'device_encoding',\n",
       " 'devnull',\n",
       " 'dup',\n",
       " 'dup2',\n",
       " 'environ',\n",
       " 'error',\n",
       " 'execl',\n",
       " 'execle',\n",
       " 'execlp',\n",
       " 'execlpe',\n",
       " 'execv',\n",
       " 'execve',\n",
       " 'execvp',\n",
       " 'execvpe',\n",
       " 'extsep',\n",
       " 'fdopen',\n",
       " 'fsdecode',\n",
       " 'fsencode',\n",
       " 'fspath',\n",
       " 'fstat',\n",
       " 'fsync',\n",
       " 'ftruncate',\n",
       " 'get_exec_path',\n",
       " 'get_handle_inheritable',\n",
       " 'get_inheritable',\n",
       " 'get_terminal_size',\n",
       " 'getcwd',\n",
       " 'getcwdb',\n",
       " 'getenv',\n",
       " 'getlogin',\n",
       " 'getpid',\n",
       " 'getppid',\n",
       " 'isatty',\n",
       " 'kill',\n",
       " 'linesep',\n",
       " 'link',\n",
       " 'listdir',\n",
       " 'lseek',\n",
       " 'lstat',\n",
       " 'makedirs',\n",
       " 'mkdir',\n",
       " 'name',\n",
       " 'open',\n",
       " 'pardir',\n",
       " 'path',\n",
       " 'pathsep',\n",
       " 'pipe',\n",
       " 'popen',\n",
       " 'putenv',\n",
       " 'read',\n",
       " 'readlink',\n",
       " 'remove',\n",
       " 'removedirs',\n",
       " 'rename',\n",
       " 'renames',\n",
       " 'replace',\n",
       " 'rmdir',\n",
       " 'scandir',\n",
       " 'sep',\n",
       " 'set_handle_inheritable',\n",
       " 'set_inheritable',\n",
       " 'spawnl',\n",
       " 'spawnle',\n",
       " 'spawnv',\n",
       " 'spawnve',\n",
       " 'st',\n",
       " 'startfile',\n",
       " 'stat',\n",
       " 'stat_result',\n",
       " 'statvfs_result',\n",
       " 'strerror',\n",
       " 'supports_bytes_environ',\n",
       " 'supports_dir_fd',\n",
       " 'supports_effective_ids',\n",
       " 'supports_fd',\n",
       " 'supports_follow_symlinks',\n",
       " 'symlink',\n",
       " 'sys',\n",
       " 'system',\n",
       " 'terminal_size',\n",
       " 'times',\n",
       " 'times_result',\n",
       " 'truncate',\n",
       " 'umask',\n",
       " 'uname_result',\n",
       " 'unlink',\n",
       " 'unsetenv',\n",
       " 'urandom',\n",
       " 'utime',\n",
       " 'waitpid',\n",
       " 'waitstatus_to_exitcode',\n",
       " 'walk',\n",
       " 'write']"
      ]
     },
     "execution_count": 1,
     "metadata": {},
     "output_type": "execute_result"
    }
   ],
   "source": [
    "import os\n",
    "dir(os)"
   ]
  },
  {
   "cell_type": "code",
   "execution_count": 2,
   "id": "d6e43b26",
   "metadata": {},
   "outputs": [
    {
     "name": "stdout",
     "output_type": "stream",
     "text": [
      "C:\\Users\\ILKAY\\Desktop\\Notlar\n"
     ]
    }
   ],
   "source": [
    "print(os.getcwd())#getcwd fonksiyonu sayesinde hangi bu dosyanın hangi dizin altında olduğunu öğrenebiliriz."
   ]
  },
  {
   "cell_type": "code",
   "execution_count": 5,
   "id": "82555b98",
   "metadata": {},
   "outputs": [
    {
     "name": "stdout",
     "output_type": "stream",
     "text": [
      "C:\\Users\\ILKAY\\Desktop\n"
     ]
    }
   ],
   "source": [
    "os.chdir(\"C:/Users/ILKAY/Desktop\")#eğer bulunduğum dizini değiştirmek istersem chdir fonkunu kullanırım.\n",
    "print(os.getcwd())"
   ]
  },
  {
   "cell_type": "code",
   "execution_count": 6,
   "id": "dc3f51f0",
   "metadata": {},
   "outputs": [
    {
     "name": "stdout",
     "output_type": "stream",
     "text": [
      "['DarkKO.lnk', 'desktop.ini', 'etsy_2fa_backup_codes.txt', 'Forza Horizon 5.url', 'Konusma.docx', 'MSI Afterburner.lnk', 'Notlar', 'Oyunlar', 'Sqlite veritabanı', 'Teleskop.ppt', 'Uygulamalar', 'Yeni Metin Belgesi.txt']\n"
     ]
    }
   ],
   "source": [
    "print(os.listdir())#şu anda bulundugumuz dızındekı klasorlerı ve dosyaları liste şeklinde gösteriyor."
   ]
  },
  {
   "cell_type": "code",
   "execution_count": 7,
   "id": "6e6af5c9",
   "metadata": {},
   "outputs": [
    {
     "name": "stdout",
     "output_type": "stream",
     "text": [
      "C:\\Users\\ILKAY\\Desktop\n"
     ]
    }
   ],
   "source": [
    "import os\n",
    "print(os.getcwd())\n",
    "os.mkdir(\"Deneme1\")#mkdir de yeni bir klasor olusturuyor."
   ]
  },
  {
   "cell_type": "code",
   "execution_count": 8,
   "id": "fca96293",
   "metadata": {},
   "outputs": [],
   "source": [
    "os.makedirs(\"Deneme2/Deneme3\")#makedirs sayesinde iç içe dosyalar oluşturabiliriz."
   ]
  },
  {
   "cell_type": "code",
   "execution_count": 10,
   "id": "3c3f9556",
   "metadata": {},
   "outputs": [
    {
     "ename": "FileNotFoundError",
     "evalue": "[WinError 2] Sistem belirtilen dosyayı bulamıyor: 'Deneme2/Deneme3'",
     "output_type": "error",
     "traceback": [
      "\u001b[1;31m---------------------------------------------------------------------------\u001b[0m",
      "\u001b[1;31mFileNotFoundError\u001b[0m                         Traceback (most recent call last)",
      "\u001b[1;32m~\\AppData\\Local\\Temp\\ipykernel_288\\3263174498.py\u001b[0m in \u001b[0;36m<module>\u001b[1;34m\u001b[0m\n\u001b[1;32m----> 1\u001b[1;33m \u001b[0mos\u001b[0m\u001b[1;33m.\u001b[0m\u001b[0mrmdir\u001b[0m\u001b[1;33m(\u001b[0m\u001b[1;34m\"Deneme2/Deneme3\"\u001b[0m\u001b[1;33m)\u001b[0m\u001b[1;31m#rmdir de klasörü silmeye yarıyor.\u001b[0m\u001b[1;33m\u001b[0m\u001b[1;33m\u001b[0m\u001b[0m\n\u001b[0m\u001b[0;32m      2\u001b[0m \u001b[0mos\u001b[0m\u001b[1;33m.\u001b[0m\u001b[0mremovedirs\u001b[0m\u001b[1;33m(\u001b[0m\u001b[1;34m\"Denem2/Deneme3\"\u001b[0m\u001b[1;33m)\u001b[0m\u001b[1;31m#removedirs ise hem o klasörü hem de onun altındakı bütün klasorleri siliyor.\u001b[0m\u001b[1;33m\u001b[0m\u001b[1;33m\u001b[0m\u001b[0m\n",
      "\u001b[1;31mFileNotFoundError\u001b[0m: [WinError 2] Sistem belirtilen dosyayı bulamıyor: 'Deneme2/Deneme3'"
     ]
    }
   ],
   "source": [
    "os.rmdir(\"Deneme2/Deneme3\")#rmdir de klasörü silmeye yarıyor.\n",
    "os.removedirs(\"Denem2/Deneme3\")#removedirs ise hem o klasörü hem de onun altındakı bütün klasorleri siliyor."
   ]
  },
  {
   "cell_type": "code",
   "execution_count": 12,
   "id": "3b407fb3",
   "metadata": {},
   "outputs": [],
   "source": [
    "#os.rename()dosyanın ismini değiştirmek için kullanırız."
   ]
  },
  {
   "cell_type": "code",
   "execution_count": null,
   "id": "c6e5fe63",
   "metadata": {},
   "outputs": [],
   "source": []
  }
 ],
 "metadata": {
  "kernelspec": {
   "display_name": "Python 3 (ipykernel)",
   "language": "python",
   "name": "python3"
  },
  "language_info": {
   "codemirror_mode": {
    "name": "ipython",
    "version": 3
   },
   "file_extension": ".py",
   "mimetype": "text/x-python",
   "name": "python",
   "nbconvert_exporter": "python",
   "pygments_lexer": "ipython3",
   "version": "3.9.13"
  }
 },
 "nbformat": 4,
 "nbformat_minor": 5
}
