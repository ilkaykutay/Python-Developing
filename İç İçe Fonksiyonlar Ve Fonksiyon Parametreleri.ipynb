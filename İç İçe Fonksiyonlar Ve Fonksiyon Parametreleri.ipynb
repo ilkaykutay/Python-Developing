{
 "cells": [
  {
   "cell_type": "markdown",
   "id": "69f0fb28",
   "metadata": {},
   "source": [
    "*args kalıbıyla fonksıyonun ıcıne ıstedıgımız kadar eleman yollıyabılırız.Burda args dıye gırılen degıskenler demet olarak depolanıyor.O yuzden for ile gezınıyoruz."
   ]
  },
  {
   "cell_type": "code",
   "execution_count": 31,
   "id": "5522445c",
   "metadata": {},
   "outputs": [],
   "source": [
    "def fonk(*args):\n",
    "    print(args)"
   ]
  },
  {
   "cell_type": "code",
   "execution_count": 32,
   "id": "40af96e2",
   "metadata": {},
   "outputs": [
    {
     "name": "stdout",
     "output_type": "stream",
     "text": [
      "(1, 2, 3, 4)\n"
     ]
    }
   ],
   "source": [
    "fonk(1,2,3,4)"
   ]
  },
  {
   "cell_type": "code",
   "execution_count": 1,
   "id": "0bd72a05",
   "metadata": {},
   "outputs": [],
   "source": [
    "def fonksiyon(*args):\n",
    "    for i in args:\n",
    "        print(i)"
   ]
  },
  {
   "cell_type": "code",
   "execution_count": 3,
   "id": "710b3f1f",
   "metadata": {},
   "outputs": [
    {
     "name": "stdout",
     "output_type": "stream",
     "text": [
      "1\n",
      "2\n",
      "3\n"
     ]
    }
   ],
   "source": [
    "fonksiyon(1,2,3)"
   ]
  },
  {
   "cell_type": "code",
   "execution_count": 4,
   "id": "5c1a19fb",
   "metadata": {},
   "outputs": [
    {
     "name": "stdout",
     "output_type": "stream",
     "text": [
      "1\n",
      "2\n",
      "3\n",
      "4\n",
      "5\n",
      "6\n",
      "7\n",
      "8\n"
     ]
    }
   ],
   "source": [
    "fonksiyon(1,2,3,4,5,6,7,8)"
   ]
  },
  {
   "cell_type": "code",
   "execution_count": 5,
   "id": "997e5a85",
   "metadata": {},
   "outputs": [],
   "source": [
    "def fonksiyon(isim,*args):\n",
    "    print(\"isim:\",isim)\n",
    "    \n",
    "    print(\"---------------\")\n",
    "    for i in args:\n",
    "        print(i)"
   ]
  },
  {
   "cell_type": "code",
   "execution_count": 6,
   "id": "47a0e49c",
   "metadata": {},
   "outputs": [
    {
     "name": "stdout",
     "output_type": "stream",
     "text": [
      "isim: İlkay\n",
      "---------------\n",
      "2\n",
      "3\n",
      "4\n",
      "5\n",
      "6\n"
     ]
    }
   ],
   "source": [
    "fonksiyon(\"İlkay\",2,3,4,5,6)"
   ]
  },
  {
   "cell_type": "markdown",
   "id": "64560bb5",
   "metadata": {},
   "source": [
    "**kwargs argumanlardan sozluk olusturup bıze bastırıyor."
   ]
  },
  {
   "cell_type": "code",
   "execution_count": 7,
   "id": "ef9d0206",
   "metadata": {},
   "outputs": [],
   "source": [
    "def fonksiyon(**kwargs):\n",
    "    print(kwargs)"
   ]
  },
  {
   "cell_type": "code",
   "execution_count": 8,
   "id": "23e91a17",
   "metadata": {},
   "outputs": [
    {
     "name": "stdout",
     "output_type": "stream",
     "text": [
      "{'isim': 'ilkay', 'soyisim': 'kutay', 'numara': 12345}\n"
     ]
    }
   ],
   "source": [
    "fonksiyon(isim=\"ilkay\",soyisim=\"kutay\",numara=12345)"
   ]
  },
  {
   "cell_type": "code",
   "execution_count": 9,
   "id": "de67fb9c",
   "metadata": {},
   "outputs": [],
   "source": [
    "def fonksiyon(**kwargs):\n",
    "    for i,j in kwargs.items():\n",
    "        print(\"Argüman ismi:\",i,\"Argüman Değeri:\",j)"
   ]
  },
  {
   "cell_type": "code",
   "execution_count": 10,
   "id": "45f160da",
   "metadata": {},
   "outputs": [
    {
     "name": "stdout",
     "output_type": "stream",
     "text": [
      "Argüman ismi: isim Argüman Değeri: ilkay\n",
      "Argüman ismi: soyisim Argüman Değeri: kutay\n",
      "Argüman ismi: numara Argüman Değeri: 12345\n"
     ]
    }
   ],
   "source": [
    "fonksiyon(isim=\"ilkay\",soyisim=\"kutay\",numara=12345)"
   ]
  },
  {
   "cell_type": "code",
   "execution_count": 11,
   "id": "9e5c8692",
   "metadata": {},
   "outputs": [],
   "source": [
    "def fonksiyon(*args,**kwargs):\n",
    "    for i in args:\n",
    "        print(i)\n",
    "    print(\"-----------\")\n",
    "    for i,j in kwargs.items():\n",
    "        print(i,j)"
   ]
  },
  {
   "cell_type": "code",
   "execution_count": 14,
   "id": "f56b998a",
   "metadata": {},
   "outputs": [
    {
     "name": "stdout",
     "output_type": "stream",
     "text": [
      "1\n",
      "2\n",
      "3\n",
      "4\n",
      "5\n",
      "-----------\n",
      "isim ilkay\n",
      "soyisim kutay\n",
      "numara 12345\n"
     ]
    }
   ],
   "source": [
    "fonksiyon(1,2,3,4,5,isim=\"ilkay\",soyisim=\"kutay\",numara=12345)"
   ]
  },
  {
   "cell_type": "markdown",
   "id": "7232cdbc",
   "metadata": {},
   "source": [
    "İç içe fonksiyonlar:\n",
    "\n",
    "Pythonda fonksiyonlar da birer obje oldukları için hem bir tane değişkene atanabilirler, hem de başka bir fonksiyonun içinde tanımlanabilirler. Şimdi bunlara bakmaya başlayalım."
   ]
  },
  {
   "cell_type": "code",
   "execution_count": 15,
   "id": "3d87f46f",
   "metadata": {},
   "outputs": [],
   "source": [
    "def selamla(isim):\n",
    "    print(\"Selam\",isim);"
   ]
  },
  {
   "cell_type": "code",
   "execution_count": 16,
   "id": "3edab9f5",
   "metadata": {},
   "outputs": [
    {
     "name": "stdout",
     "output_type": "stream",
     "text": [
      "Selam Ayşe\n"
     ]
    }
   ],
   "source": [
    "selamla(\"Ayşe\")"
   ]
  },
  {
   "cell_type": "code",
   "execution_count": 17,
   "id": "eeb290df",
   "metadata": {},
   "outputs": [
    {
     "data": {
      "text/plain": [
       "<function __main__.selamla(isim)>"
      ]
     },
     "execution_count": 17,
     "metadata": {},
     "output_type": "execute_result"
    }
   ],
   "source": [
    "selamla"
   ]
  },
  {
   "cell_type": "code",
   "execution_count": 19,
   "id": "f9628812",
   "metadata": {},
   "outputs": [
    {
     "data": {
      "text/plain": [
       "<function __main__.selamla(isim)>"
      ]
     },
     "execution_count": 19,
     "metadata": {},
     "output_type": "execute_result"
    }
   ],
   "source": [
    "merhaba=selamla\n",
    "merhaba"
   ]
  },
  {
   "cell_type": "code",
   "execution_count": 20,
   "id": "73a01757",
   "metadata": {},
   "outputs": [
    {
     "name": "stdout",
     "output_type": "stream",
     "text": [
      "Selam Mehmet\n"
     ]
    }
   ],
   "source": [
    "merhaba(\"Mehmet\")# Selamla fonku bır obje donuyor bıze daha sonra yenı bır obje(merhaba) olusturup ona esıtleyınce selamla gibi kullanılabılıyor. "
   ]
  },
  {
   "cell_type": "code",
   "execution_count": 21,
   "id": "254eb628",
   "metadata": {},
   "outputs": [],
   "source": [
    "del selamla"
   ]
  },
  {
   "cell_type": "code",
   "execution_count": 22,
   "id": "4086afef",
   "metadata": {},
   "outputs": [
    {
     "ename": "NameError",
     "evalue": "name 'selamla' is not defined",
     "output_type": "error",
     "traceback": [
      "\u001b[1;31m---------------------------------------------------------------------------\u001b[0m",
      "\u001b[1;31mNameError\u001b[0m                                 Traceback (most recent call last)",
      "\u001b[1;32m~\\AppData\\Local\\Temp\\ipykernel_6704\\4085223390.py\u001b[0m in \u001b[0;36m<module>\u001b[1;34m\u001b[0m\n\u001b[1;32m----> 1\u001b[1;33m \u001b[0mselamla\u001b[0m\u001b[1;33m\u001b[0m\u001b[1;33m\u001b[0m\u001b[0m\n\u001b[0m",
      "\u001b[1;31mNameError\u001b[0m: name 'selamla' is not defined"
     ]
    }
   ],
   "source": [
    "selamla"
   ]
  },
  {
   "cell_type": "code",
   "execution_count": 24,
   "id": "8568fb31",
   "metadata": {},
   "outputs": [
    {
     "data": {
      "text/plain": [
       "<function __main__.selamla(isim)>"
      ]
     },
     "execution_count": 24,
     "metadata": {},
     "output_type": "execute_result"
    }
   ],
   "source": [
    "merhaba#selamla fonkunu sılmemıze ragmen referans olan devam edebılıyor."
   ]
  },
  {
   "cell_type": "code",
   "execution_count": 25,
   "id": "6afc32a5",
   "metadata": {},
   "outputs": [
    {
     "name": "stdout",
     "output_type": "stream",
     "text": [
      "Selam İlkay\n"
     ]
    }
   ],
   "source": [
    "merhaba(\"İlkay\")"
   ]
  },
  {
   "cell_type": "code",
   "execution_count": 26,
   "id": "bf1e5db1",
   "metadata": {},
   "outputs": [],
   "source": [
    "def fonksiyon():\n",
    "    def fonksiyon2():\n",
    "        print(\"Küçük fonksiyon\")\n",
    "    fonksiyon2()\n",
    "    print(\"Büyük fonksiyon\")\n",
    "        "
   ]
  },
  {
   "cell_type": "code",
   "execution_count": 27,
   "id": "afe37628",
   "metadata": {},
   "outputs": [
    {
     "name": "stdout",
     "output_type": "stream",
     "text": [
      "Küçük fonksiyon\n",
      "Büyük fonksiyon\n"
     ]
    }
   ],
   "source": [
    "fonksiyon()"
   ]
  },
  {
   "cell_type": "code",
   "execution_count": 28,
   "id": "114449ae",
   "metadata": {},
   "outputs": [
    {
     "ename": "NameError",
     "evalue": "name 'fonksiyon2' is not defined",
     "output_type": "error",
     "traceback": [
      "\u001b[1;31m---------------------------------------------------------------------------\u001b[0m",
      "\u001b[1;31mNameError\u001b[0m                                 Traceback (most recent call last)",
      "\u001b[1;32m~\\AppData\\Local\\Temp\\ipykernel_6704\\1149327145.py\u001b[0m in \u001b[0;36m<module>\u001b[1;34m\u001b[0m\n\u001b[1;32m----> 1\u001b[1;33m \u001b[0mfonksiyon2\u001b[0m\u001b[1;33m(\u001b[0m\u001b[1;33m)\u001b[0m\u001b[1;33m\u001b[0m\u001b[1;33m\u001b[0m\u001b[0m\n\u001b[0m",
      "\u001b[1;31mNameError\u001b[0m: name 'fonksiyon2' is not defined"
     ]
    }
   ],
   "source": [
    "fonksiyon2()#local bir obje oldugu ıcın dısarıdan etkı edemıyoruz."
   ]
  },
  {
   "cell_type": "code",
   "execution_count": 29,
   "id": "15979363",
   "metadata": {},
   "outputs": [],
   "source": [
    "def fonksiyon(*args):\n",
    "    def toplama(args):\n",
    "        toplam=0\n",
    "        for i in args:\n",
    "            toplam+=i\n",
    "        return toplam\n",
    "    print(toplama(args))"
   ]
  },
  {
   "cell_type": "code",
   "execution_count": 30,
   "id": "1a36b440",
   "metadata": {},
   "outputs": [
    {
     "name": "stdout",
     "output_type": "stream",
     "text": [
      "21\n"
     ]
    }
   ],
   "source": [
    "fonksiyon(1,2,3,4,5,6)"
   ]
  },
  {
   "cell_type": "code",
   "execution_count": null,
   "id": "85f7c1c6",
   "metadata": {},
   "outputs": [],
   "source": []
  }
 ],
 "metadata": {
  "kernelspec": {
   "display_name": "Python 3 (ipykernel)",
   "language": "python",
   "name": "python3"
  },
  "language_info": {
   "codemirror_mode": {
    "name": "ipython",
    "version": 3
   },
   "file_extension": ".py",
   "mimetype": "text/x-python",
   "name": "python",
   "nbconvert_exporter": "python",
   "pygments_lexer": "ipython3",
   "version": "3.9.13"
  }
 },
 "nbformat": 4,
 "nbformat_minor": 5
}
